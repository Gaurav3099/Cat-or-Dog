{
 "cells": [
  {
   "cell_type": "code",
   "execution_count": 1,
   "metadata": {},
   "outputs": [
    {
     "name": "stderr",
     "output_type": "stream",
     "text": [
      "C:\\Users\\Gaurav\\anaconda3\\envs\\py3-TF2.0\\lib\\site-packages\\ipykernel\\parentpoller.py:116: UserWarning: Parent poll failed.  If the frontend dies,\n",
      "                the kernel may be left running.  Please let us know\n",
      "                about your system (bitness, Python, etc.) at\n",
      "                ipython-dev@scipy.org\n",
      "  ipython-dev@scipy.org\"\"\")\n",
      "Using TensorFlow backend.\n"
     ]
    }
   ],
   "source": [
    "import numpy as np\n",
    "import tensorflow as tf\n",
    "from keras.preprocessing.image import ImageDataGenerator"
   ]
  },
  {
   "cell_type": "code",
   "execution_count": 2,
   "metadata": {},
   "outputs": [
    {
     "data": {
      "text/plain": [
       "'2.0.0'"
      ]
     },
     "execution_count": 2,
     "metadata": {},
     "output_type": "execute_result"
    }
   ],
   "source": [
    "tf.__version__"
   ]
  },
  {
   "cell_type": "code",
   "execution_count": 3,
   "metadata": {},
   "outputs": [],
   "source": [
    "train_datagen = ImageDataGenerator(rescale = 1./255,\n",
    "                                  shear_range = 0.2,\n",
    "                                  zoom_range = 0.2,\n",
    "                                  horizontal_flip = True)"
   ]
  },
  {
   "cell_type": "code",
   "execution_count": 4,
   "metadata": {},
   "outputs": [],
   "source": [
    "test_datagen = ImageDataGenerator(rescale = 1./255)"
   ]
  },
  {
   "cell_type": "code",
   "execution_count": 5,
   "metadata": {},
   "outputs": [
    {
     "name": "stdout",
     "output_type": "stream",
     "text": [
      "Found 8000 images belonging to 2 classes.\n"
     ]
    }
   ],
   "source": [
    "training_set = train_datagen.flow_from_directory('dataset/training_set',\n",
    "                                                target_size = (64,64),\n",
    "                                                batch_size = 32,\n",
    "                                                class_mode = 'binary')"
   ]
  },
  {
   "cell_type": "code",
   "execution_count": 6,
   "metadata": {},
   "outputs": [
    {
     "name": "stdout",
     "output_type": "stream",
     "text": [
      "Found 2000 images belonging to 2 classes.\n"
     ]
    }
   ],
   "source": [
    "test_set = test_datagen.flow_from_directory('dataset/test_set',\n",
    "                                           target_size = (64,64),\n",
    "                                           batch_size = 32,\n",
    "                                           class_mode = 'binary')"
   ]
  },
  {
   "cell_type": "code",
   "execution_count": 7,
   "metadata": {},
   "outputs": [],
   "source": [
    "cnn = tf.keras.models.Sequential()"
   ]
  },
  {
   "cell_type": "code",
   "execution_count": 8,
   "metadata": {},
   "outputs": [],
   "source": [
    "cnn.add(tf.keras.layers.Conv2D(filters=32, kernel_size=3, padding=\"same\", activation=\"relu\", input_shape=[64,64,3]))"
   ]
  },
  {
   "cell_type": "code",
   "execution_count": 9,
   "metadata": {},
   "outputs": [],
   "source": [
    "cnn.add(tf.keras.layers.MaxPool2D(pool_size=2, strides=2, padding='valid'))"
   ]
  },
  {
   "cell_type": "code",
   "execution_count": 10,
   "metadata": {},
   "outputs": [],
   "source": [
    "cnn.add(tf.keras.layers.Conv2D(filters=32, kernel_size=3, padding='same',activation='relu'))\n",
    "cnn.add(tf.keras.layers.MaxPool2D(pool_size=2, strides=2, padding='valid'))"
   ]
  },
  {
   "cell_type": "code",
   "execution_count": 11,
   "metadata": {},
   "outputs": [],
   "source": [
    "cnn.add(tf.keras.layers.Flatten())"
   ]
  },
  {
   "cell_type": "code",
   "execution_count": 12,
   "metadata": {},
   "outputs": [],
   "source": [
    "cnn.add(tf.keras.layers.Dense(units=128, activation='relu'))"
   ]
  },
  {
   "cell_type": "code",
   "execution_count": 13,
   "metadata": {},
   "outputs": [],
   "source": [
    "cnn.add(tf.keras.layers.Dense(units=1, activation='sigmoid'))"
   ]
  },
  {
   "cell_type": "code",
   "execution_count": 14,
   "metadata": {},
   "outputs": [],
   "source": [
    "cnn.compile(optimaizer='adam', loss='binary_crossentropy', metrics=['accuracy'])"
   ]
  },
  {
   "cell_type": "code",
   "execution_count": 15,
   "metadata": {},
   "outputs": [
    {
     "name": "stdout",
     "output_type": "stream",
     "text": [
      "Epoch 1/25\n",
      "334/334 [==============================] - 611s 2s/step - loss: 0.6477 - accuracy: 0.6229 - val_loss: 0.5561 - val_accuracy: 0.7248\n",
      "Epoch 2/25\n",
      "334/334 [==============================] - 166s 496ms/step - loss: 0.5613 - accuracy: 0.7135 - val_loss: 0.6046 - val_accuracy: 0.6860\n",
      "Epoch 3/25\n",
      "334/334 [==============================] - 424s 1s/step - loss: 0.5358 - accuracy: 0.7305 - val_loss: 0.6343 - val_accuracy: 0.6722\n",
      "Epoch 4/25\n",
      "334/334 [==============================] - 157s 469ms/step - loss: 0.4992 - accuracy: 0.7584 - val_loss: 0.4969 - val_accuracy: 0.7527\n",
      "Epoch 5/25\n",
      "334/334 [==============================] - 138s 412ms/step - loss: 0.4785 - accuracy: 0.7711 - val_loss: 0.4702 - val_accuracy: 0.7876\n",
      "Epoch 6/25\n",
      "334/334 [==============================] - 176s 528ms/step - loss: 0.4593 - accuracy: 0.7802 - val_loss: 0.4599 - val_accuracy: 0.7895\n",
      "Epoch 7/25\n",
      "334/334 [==============================] - 143s 428ms/step - loss: 0.4430 - accuracy: 0.7915 - val_loss: 0.5352 - val_accuracy: 0.7485\n",
      "Epoch 8/25\n",
      "334/334 [==============================] - 143s 428ms/step - loss: 0.4327 - accuracy: 0.7960 - val_loss: 0.4742 - val_accuracy: 0.7867\n",
      "Epoch 9/25\n",
      "334/334 [==============================] - 150s 448ms/step - loss: 0.4153 - accuracy: 0.8106 - val_loss: 0.4975 - val_accuracy: 0.7879\n",
      "Epoch 10/25\n",
      "334/334 [==============================] - 153s 458ms/step - loss: 0.3965 - accuracy: 0.8194 - val_loss: 0.4711 - val_accuracy: 0.7986\n",
      "Epoch 11/25\n",
      "334/334 [==============================] - 144s 433ms/step - loss: 0.3873 - accuracy: 0.8237 - val_loss: 0.4408 - val_accuracy: 0.8104\n",
      "Epoch 12/25\n",
      "334/334 [==============================] - 136s 407ms/step - loss: 0.3843 - accuracy: 0.8261 - val_loss: 0.4965 - val_accuracy: 0.8052\n",
      "Epoch 13/25\n",
      "334/334 [==============================] - 145s 435ms/step - loss: 0.3627 - accuracy: 0.8400 - val_loss: 0.4732 - val_accuracy: 0.7853\n",
      "Epoch 14/25\n",
      "334/334 [==============================] - 154s 462ms/step - loss: 0.3646 - accuracy: 0.8400 - val_loss: 0.4657 - val_accuracy: 0.7936\n",
      "Epoch 15/25\n",
      "334/334 [==============================] - 148s 442ms/step - loss: 0.3514 - accuracy: 0.8447 - val_loss: 0.4737 - val_accuracy: 0.7996\n",
      "Epoch 16/25\n",
      "334/334 [==============================] - 141s 421ms/step - loss: 0.3393 - accuracy: 0.8502 - val_loss: 0.4400 - val_accuracy: 0.8077\n",
      "Epoch 17/25\n",
      "334/334 [==============================] - 147s 442ms/step - loss: 0.3247 - accuracy: 0.8607 - val_loss: 0.6034 - val_accuracy: 0.7854\n",
      "Epoch 18/25\n",
      "334/334 [==============================] - 161s 481ms/step - loss: 0.3137 - accuracy: 0.8620 - val_loss: 0.5307 - val_accuracy: 0.8130\n",
      "Epoch 19/25\n",
      "334/334 [==============================] - 140s 419ms/step - loss: 0.3133 - accuracy: 0.8693 - val_loss: 0.5269 - val_accuracy: 0.7932\n",
      "Epoch 20/25\n",
      "334/334 [==============================] - 141s 422ms/step - loss: 0.2932 - accuracy: 0.8796 - val_loss: 0.6529 - val_accuracy: 0.7794\n",
      "Epoch 21/25\n",
      "334/334 [==============================] - 140s 419ms/step - loss: 0.2997 - accuracy: 0.8754 - val_loss: 0.5448 - val_accuracy: 0.8051\n",
      "Epoch 22/25\n",
      "334/334 [==============================] - 150s 449ms/step - loss: 0.2882 - accuracy: 0.8817 - val_loss: 0.4923 - val_accuracy: 0.8219\n",
      "Epoch 23/25\n",
      "334/334 [==============================] - 149s 446ms/step - loss: 0.2701 - accuracy: 0.8880 - val_loss: 0.5876 - val_accuracy: 0.8049\n",
      "Epoch 24/25\n",
      "334/334 [==============================] - 144s 430ms/step - loss: 0.2626 - accuracy: 0.8883 - val_loss: 0.6074 - val_accuracy: 0.8212\n",
      "Epoch 25/25\n",
      "334/334 [==============================] - 155s 463ms/step - loss: 0.2643 - accuracy: 0.8946 - val_loss: 0.5844 - val_accuracy: 0.8040\n"
     ]
    },
    {
     "data": {
      "text/plain": [
       "<tensorflow.python.keras.callbacks.History at 0x1e38faf0c48>"
      ]
     },
     "execution_count": 15,
     "metadata": {},
     "output_type": "execute_result"
    }
   ],
   "source": [
    "cnn.fit_generator(training_set,\n",
    "                 steps_per_epoch = 334,\n",
    "                 epochs = 25,\n",
    "                 validation_data = test_set,\n",
    "                 validation_steps = 334)"
   ]
  },
  {
   "cell_type": "code",
   "execution_count": 16,
   "metadata": {},
   "outputs": [],
   "source": [
    "from keras.preprocessing import image"
   ]
  },
  {
   "cell_type": "code",
   "execution_count": 35,
   "metadata": {},
   "outputs": [],
   "source": [
    "test_image = image.load_img('dataset/single_prediction/cat_or_dog_2.jpg', target_size = (64,64))\n",
    "test_image = image.img_to_array(test_image)\n",
    "test_image = np.expand_dims(test_image, axis = 0)\n",
    "result = cnn.predict(test_image)\n",
    "training_set.class_indices\n",
    "if result[0][0] == 1:\n",
    "    prediction = 'dog'\n",
    "else:\n",
    "    prediction = 'cat'"
   ]
  },
  {
   "cell_type": "code",
   "execution_count": 36,
   "metadata": {},
   "outputs": [
    {
     "name": "stdout",
     "output_type": "stream",
     "text": [
      "cat\n"
     ]
    }
   ],
   "source": [
    "print(prediction)"
   ]
  },
  {
   "cell_type": "code",
   "execution_count": 22,
   "metadata": {},
   "outputs": [
    {
     "name": "stderr",
     "output_type": "stream",
     "text": [
      "ERROR: Could not find a version that satisfies the requirement pickle (from versions: none)\n",
      "ERROR: No matching distribution found for pickle\n"
     ]
    }
   ],
   "source": [
    "#!pip install pickle"
   ]
  },
  {
   "cell_type": "code",
   "execution_count": 32,
   "metadata": {},
   "outputs": [
    {
     "name": "stdout",
     "output_type": "stream",
     "text": [
      "Saved model to disk\n"
     ]
    }
   ],
   "source": [
    "#Save the model\n",
    "import pickle\n",
    "\n",
    "Pkl_Filename = \"cat_dog.pkl\"  \n",
    "\n",
    "# M=open(Pkl_Filename,'wb')\n",
    "# pickle.dump(cnn,M)                                                                                                                                                                                                                                                                                                                                                                                                                                                                                                                                                                                                                                                                                                                                                                                                                                                                                                                                                                                                                           \n",
    "# M.close()\n",
    "\n",
    "# save model and architecture to single file\n",
    "cnn.save(\"model_cat_dog.h5\")\n",
    "print(\"Saved model to disk\")"
   ]
  },
  {
   "cell_type": "code",
   "execution_count": 37,
   "metadata": {},
   "outputs": [
    {
     "data": {
      "text/plain": [
       "{'cats': 0, 'dogs': 1}"
      ]
     },
     "execution_count": 37,
     "metadata": {},
     "output_type": "execute_result"
    }
   ],
   "source": [
    "training_set.class_indices"
   ]
  },
  {
   "cell_type": "code",
   "execution_count": null,
   "metadata": {},
   "outputs": [],
   "source": []
  }
 ],
 "metadata": {
  "kernelspec": {
   "display_name": "Python [conda env:py3-TF2.0]",
   "language": "python",
   "name": "conda-env-py3-TF2.0-py"
  },
  "language_info": {
   "codemirror_mode": {
    "name": "ipython",
    "version": 3
   },
   "file_extension": ".py",
   "mimetype": "text/x-python",
   "name": "python",
   "nbconvert_exporter": "python",
   "pygments_lexer": "ipython3",
   "version": "3.7.7"
  }
 },
 "nbformat": 4,
 "nbformat_minor": 4
}
